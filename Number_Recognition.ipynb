{
  "nbformat": 4,
  "nbformat_minor": 0,
  "metadata": {
    "colab": {
      "provenance": []
    },
    "kernelspec": {
      "name": "python3",
      "display_name": "Python 3"
    },
    "language_info": {
      "name": "python"
    }
  },
  "cells": [
    {
      "cell_type": "code",
      "execution_count": 1,
      "metadata": {
        "colab": {
          "base_uri": "https://localhost:8080/"
        },
        "id": "hgYYPfKG3srz",
        "outputId": "26573d95-5839-4f08-a975-3728a2516391"
      },
      "outputs": [
        {
          "output_type": "stream",
          "name": "stdout",
          "text": [
            "Downloading data from https://storage.googleapis.com/tensorflow/tf-keras-datasets/mnist.npz\n",
            "11490434/11490434 [==============================] - 0s 0us/step\n",
            "Epoch 1/10\n",
            "469/469 [==============================] - 4s 7ms/step - loss: 0.2677 - accuracy: 0.9231 - val_loss: 0.1325 - val_accuracy: 0.9608\n",
            "Epoch 2/10\n",
            "469/469 [==============================] - 3s 7ms/step - loss: 0.1077 - accuracy: 0.9685 - val_loss: 0.0919 - val_accuracy: 0.9717\n",
            "Epoch 3/10\n",
            "469/469 [==============================] - 4s 8ms/step - loss: 0.0714 - accuracy: 0.9790 - val_loss: 0.0863 - val_accuracy: 0.9716\n",
            "Epoch 4/10\n",
            "469/469 [==============================] - 3s 7ms/step - loss: 0.0518 - accuracy: 0.9843 - val_loss: 0.0677 - val_accuracy: 0.9780\n",
            "Epoch 5/10\n",
            "469/469 [==============================] - 3s 7ms/step - loss: 0.0387 - accuracy: 0.9883 - val_loss: 0.0645 - val_accuracy: 0.9797\n",
            "Epoch 6/10\n",
            "469/469 [==============================] - 4s 8ms/step - loss: 0.0299 - accuracy: 0.9910 - val_loss: 0.0623 - val_accuracy: 0.9818\n",
            "Epoch 7/10\n",
            "469/469 [==============================] - 3s 7ms/step - loss: 0.0231 - accuracy: 0.9928 - val_loss: 0.0665 - val_accuracy: 0.9806\n",
            "Epoch 8/10\n",
            "469/469 [==============================] - 3s 7ms/step - loss: 0.0175 - accuracy: 0.9951 - val_loss: 0.0622 - val_accuracy: 0.9811\n",
            "Epoch 9/10\n",
            "469/469 [==============================] - 3s 7ms/step - loss: 0.0133 - accuracy: 0.9966 - val_loss: 0.0624 - val_accuracy: 0.9817\n",
            "Epoch 10/10\n",
            "469/469 [==============================] - 4s 9ms/step - loss: 0.0099 - accuracy: 0.9974 - val_loss: 0.0603 - val_accuracy: 0.9824\n",
            "313/313 [==============================] - 1s 2ms/step - loss: 0.0603 - accuracy: 0.9824\n",
            "Test accuracy: 0.9824000000953674\n"
          ]
        }
      ],
      "source": [
        "# Import the necessary libraries\n",
        "import numpy as np\n",
        "import matplotlib.pyplot as plt\n",
        "from keras.datasets import mnist\n",
        "from keras.models import Sequential\n",
        "from keras.layers import Dense\n",
        "\n",
        "# Load the MNIST dataset\n",
        "(X_train, y_train), (X_test, y_test) = mnist.load_data()\n",
        "\n",
        "# Preprocess the data\n",
        "X_train = X_train.reshape((60000, 28 * 28)).astype('float32') / 255\n",
        "X_test = X_test.reshape((10000, 28 * 28)).astype('float32') / 255\n",
        "\n",
        "# Convert the labels to categorical\n",
        "from keras.utils import to_categorical\n",
        "y_train = to_categorical(y_train)\n",
        "y_test = to_categorical(y_test)\n",
        "\n",
        "# Create the model\n",
        "model = Sequential()\n",
        "model.add(Dense(512, activation='relu', input_shape=(28 * 28,)))\n",
        "model.add(Dense(10, activation='softmax'))\n",
        "\n",
        "# Compile the model\n",
        "model.compile(optimizer='rmsprop', loss='categorical_crossentropy', metrics=['accuracy'])\n",
        "\n",
        "# Train the model\n",
        "history = model.fit(X_train, y_train, epochs=10, batch_size=128, validation_data=(X_test, y_test))\n",
        "\n",
        "# Evaluate the model\n",
        "test_loss, test_acc = model.evaluate(X_test, y_test)\n",
        "print('Test accuracy:', test_acc)\n"
      ]
    }
  ]
}